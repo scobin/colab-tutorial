{
  "nbformat": 4,
  "nbformat_minor": 0,
  "metadata": {
    "colab": {
      "name": "scraping.ipynb",
      "provenance": [],
      "authorship_tag": "ABX9TyOXvX06QvrbBWdJ+nZ9tWOA",
      "include_colab_link": true
    },
    "kernelspec": {
      "name": "python3",
      "display_name": "Python 3"
    },
    "language_info": {
      "name": "python"
    }
  },
  "cells": [
    {
      "cell_type": "markdown",
      "metadata": {
        "id": "view-in-github",
        "colab_type": "text"
      },
      "source": [
        "<a href=\"https://colab.research.google.com/github/scobin/colab-tutorial/blob/main/scraping.ipynb\" target=\"_parent\"><img src=\"https://colab.research.google.com/assets/colab-badge.svg\" alt=\"Open In Colab\"/></a>"
      ]
    },
    {
      "cell_type": "code",
      "metadata": {
        "id": "IofvZ8q_dy0n"
      },
      "source": [
        "# imports\n",
        "import requests\n",
        "import numpy as np\n",
        "import pandas as pd\n",
        "from bs4 import BeautifulSoup"
      ],
      "execution_count": 1,
      "outputs": []
    },
    {
      "cell_type": "code",
      "metadata": {
        "id": "_L41W94ud-wc"
      },
      "source": [
        "url = 'https://tw.stock.yahoo.com/fund/'"
      ],
      "execution_count": 2,
      "outputs": []
    },
    {
      "cell_type": "code",
      "metadata": {
        "id": "w85Iks4QeYxU"
      },
      "source": [
        "response = requests.get(url)\n",
        "soup = BeautifulSoup(response.text, 'html.parser')"
      ],
      "execution_count": 6,
      "outputs": []
    },
    {
      "cell_type": "code",
      "metadata": {
        "id": "IVwA189MEEjI"
      },
      "source": [
        "titles = soup.select('#YDC-Stream ul li h3')"
      ],
      "execution_count": 7,
      "outputs": []
    },
    {
      "cell_type": "code",
      "metadata": {
        "colab": {
          "base_uri": "https://localhost:8080/"
        },
        "id": "EZgu_cMudSJH",
        "outputId": "7a2265b9-e232-44bb-aa3e-ca13000356ba"
      },
      "source": [
        "len(titles)"
      ],
      "execution_count": 8,
      "outputs": [
        {
          "output_type": "execute_result",
          "data": {
            "text/plain": [
              "20"
            ]
          },
          "metadata": {},
          "execution_count": 8
        }
      ]
    },
    {
      "cell_type": "code",
      "metadata": {
        "id": "5MILKc6SoQLv"
      },
      "source": [
        "news = []\n",
        "for title in titles:\n",
        "  titleText = title.text\n",
        "  link = title.select_one('a')['href']\n",
        "  news.append({\"title\": titleText, \"link\": link})\n",
        "news"
      ],
      "execution_count": null,
      "outputs": []
    },
    {
      "cell_type": "code",
      "metadata": {
        "id": "5aD8I5TsrC7S"
      },
      "source": [
        "sportUrl = \"https://s5.sir.sportradar.com/taiwansportslottery/zht/3/season/79507\"\n",
        "sportResponse = requests.get(sportUrl)\n",
        "sportSoup = BeautifulSoup(sportResponse.text, 'html.parser')"
      ],
      "execution_count": 12,
      "outputs": []
    },
    {
      "cell_type": "markdown",
      "metadata": {
        "id": "q04tzpR_IVqh"
      },
      "source": [
        "## 台灣運彩網站 美國職棒 2021球隊情報"
      ]
    },
    {
      "cell_type": "code",
      "metadata": {
        "id": "aBWMj3FWry34"
      },
      "source": [
        "table = sportSoup.select_one('.panel-body .visible-md-up .table')"
      ],
      "execution_count": 13,
      "outputs": []
    },
    {
      "cell_type": "code",
      "metadata": {
        "id": "nwDMqV23uc8E"
      },
      "source": [
        "headThs = table.select('thead tr th')"
      ],
      "execution_count": 17,
      "outputs": []
    },
    {
      "cell_type": "code",
      "metadata": {
        "colab": {
          "base_uri": "https://localhost:8080/"
        },
        "id": "weJo7Wjfudfp",
        "outputId": "9ea2e9fb-5ffd-4f43-c248-4015c8097594"
      },
      "source": [
        "heads = [th.text for th in headThs]\n",
        "heads"
      ],
      "execution_count": 24,
      "outputs": [
        {
          "output_type": "execute_result",
          "data": {
            "text/plain": [
              "['位置#',\n",
              " '球隊隊伍',\n",
              " '勝',\n",
              " '負',\n",
              " '勝率',\n",
              " '勝差',\n",
              " '淘汰數字',\n",
              " '外卡勝差',\n",
              " '近10場戰績',\n",
              " '近期連勝敗',\n",
              " '淨勝球(分)',\n",
              " '主',\n",
              " '客']"
            ]
          },
          "metadata": {},
          "execution_count": 24
        }
      ]
    },
    {
      "cell_type": "code",
      "metadata": {
        "colab": {
          "base_uri": "https://localhost:8080/"
        },
        "id": "uI3BXGnCudys",
        "outputId": "eb899dad-bba1-41ba-fda2-7148830e4dde"
      },
      "source": [
        "bodyTr = table.select('tbody tr')\n",
        "len(bodyTr)"
      ],
      "execution_count": 26,
      "outputs": [
        {
          "output_type": "execute_result",
          "data": {
            "text/plain": [
              "30"
            ]
          },
          "metadata": {},
          "execution_count": 26
        }
      ]
    },
    {
      "cell_type": "code",
      "metadata": {
        "id": "jvvrDHHTELFu"
      },
      "source": [
        "tBodyData = []\n",
        "for tr in bodyTr:\n",
        "  # [td.text for td in tr.select('td')]\n",
        "  trData = {}\n",
        "  for index, td in enumerate(tr.select('td')):\n",
        "    if index == 1:\n",
        "      # name\n",
        "      text = td.text\n",
        "      # print(heads[index])\n",
        "      trData[heads[index]] = text[: len(text)//2]\n",
        "    else:\n",
        "      # others\n",
        "      trData[heads[index]] = td.text\n",
        "  tBodyData.append(trData)\n",
        "tBodyData"
      ],
      "execution_count": null,
      "outputs": []
    },
    {
      "cell_type": "code",
      "metadata": {
        "id": "k7y9m_VTCFJH"
      },
      "source": [
        "df = pd.DataFrame.from_dict(tBodyData)"
      ],
      "execution_count": 47,
      "outputs": []
    },
    {
      "cell_type": "code",
      "metadata": {
        "id": "1CdK5Cf_GvUg"
      },
      "source": [
        "df.to_csv('./table.csv', index=False)"
      ],
      "execution_count": 50,
      "outputs": []
    }
  ]
}