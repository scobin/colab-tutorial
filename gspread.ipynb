{
  "nbformat": 4,
  "nbformat_minor": 0,
  "metadata": {
    "colab": {
      "name": "gspread.ipynb",
      "provenance": [],
      "include_colab_link": true
    },
    "kernelspec": {
      "name": "python3",
      "display_name": "Python 3"
    },
    "language_info": {
      "name": "python"
    }
  },
  "cells": [
    {
      "cell_type": "markdown",
      "metadata": {
        "id": "view-in-github",
        "colab_type": "text"
      },
      "source": [
        "<a href=\"https://colab.research.google.com/github/scobin/colab-tutorial/blob/main/gspread.ipynb\" target=\"_parent\"><img src=\"https://colab.research.google.com/assets/colab-badge.svg\" alt=\"Open In Colab\"/></a>"
      ]
    },
    {
      "cell_type": "markdown",
      "metadata": {
        "id": "D5l93TcSCD2i"
      },
      "source": [
        "## Purpose\n",
        "This article will show some simple usages of **gspread** library.  \n",
        "- check & update version.\n",
        "- read the google spreadsheet in your google drive by gspread.\n",
        "- read workbook, sheet, cell by gspread.\n",
        "- update cell value. \n"
      ]
    },
    {
      "cell_type": "markdown",
      "metadata": {
        "id": "v4Lpi-fTs_z7"
      },
      "source": [
        "## Mount google drive."
      ]
    },
    {
      "cell_type": "code",
      "metadata": {
        "colab": {
          "base_uri": "https://localhost:8080/"
        },
        "id": "PDlr9gerJj2I",
        "outputId": "dfbc6887-cc13-4a67-b5aa-6913ebaae113"
      },
      "source": [
        "from google.colab import drive\n",
        "drive.mount('/content/drive')"
      ],
      "execution_count": null,
      "outputs": [
        {
          "output_type": "stream",
          "name": "stdout",
          "text": [
            "Drive already mounted at /content/drive; to attempt to forcibly remount, call drive.mount(\"/content/drive\", force_remount=True).\n"
          ]
        }
      ]
    },
    {
      "cell_type": "markdown",
      "metadata": {
        "id": "_DUaZYb2tPX8"
      },
      "source": [
        "## gspread\n",
        "use gspread to deal with google spreadsheet."
      ]
    },
    {
      "cell_type": "markdown",
      "metadata": {
        "id": "1R_EKyp4tQxw"
      },
      "source": [
        "### old version of gspread is already in colab."
      ]
    },
    {
      "cell_type": "code",
      "metadata": {
        "colab": {
          "base_uri": "https://localhost:8080/"
        },
        "id": "plJR2l1tKZtI",
        "outputId": "eba39f02-643d-4350-f983-78c82b5594e1"
      },
      "source": [
        "import gspread\n",
        "print(gspread.__version__)"
      ],
      "execution_count": null,
      "outputs": [
        {
          "output_type": "stream",
          "name": "stdout",
          "text": [
            "4.0.1\n"
          ]
        }
      ]
    },
    {
      "cell_type": "markdown",
      "metadata": {
        "id": "04Rmja-dvWHQ"
      },
      "source": [
        "### Install new version of gspread"
      ]
    },
    {
      "cell_type": "code",
      "metadata": {
        "colab": {
          "base_uri": "https://localhost:8080/"
        },
        "id": "xmo5IT6mK0HN",
        "outputId": "0bdd7f27-f02b-4a60-d77b-c92992e3d2b8"
      },
      "source": [
        "!pip install --upgrade gspread\n",
        "from importlib import reload\n",
        "reload(gspread)\n",
        "print(gspread.__version__)\n",
        "# => 4.0.1"
      ],
      "execution_count": null,
      "outputs": [
        {
          "output_type": "stream",
          "name": "stdout",
          "text": [
            "Requirement already satisfied: gspread in /usr/local/lib/python3.7/dist-packages (4.0.1)\n",
            "Requirement already satisfied: google-auth-oauthlib>=0.4.1 in /usr/local/lib/python3.7/dist-packages (from gspread) (0.4.5)\n",
            "Requirement already satisfied: google-auth>=1.12.0 in /usr/local/lib/python3.7/dist-packages (from gspread) (1.34.0)\n",
            "Requirement already satisfied: setuptools>=40.3.0 in /usr/local/lib/python3.7/dist-packages (from google-auth>=1.12.0->gspread) (57.4.0)\n",
            "Requirement already satisfied: pyasn1-modules>=0.2.1 in /usr/local/lib/python3.7/dist-packages (from google-auth>=1.12.0->gspread) (0.2.8)\n",
            "Requirement already satisfied: six>=1.9.0 in /usr/local/lib/python3.7/dist-packages (from google-auth>=1.12.0->gspread) (1.15.0)\n",
            "Requirement already satisfied: cachetools<5.0,>=2.0.0 in /usr/local/lib/python3.7/dist-packages (from google-auth>=1.12.0->gspread) (4.2.2)\n",
            "Requirement already satisfied: rsa<5,>=3.1.4 in /usr/local/lib/python3.7/dist-packages (from google-auth>=1.12.0->gspread) (4.7.2)\n",
            "Requirement already satisfied: requests-oauthlib>=0.7.0 in /usr/local/lib/python3.7/dist-packages (from google-auth-oauthlib>=0.4.1->gspread) (1.3.0)\n",
            "Requirement already satisfied: pyasn1<0.5.0,>=0.4.6 in /usr/local/lib/python3.7/dist-packages (from pyasn1-modules>=0.2.1->google-auth>=1.12.0->gspread) (0.4.8)\n",
            "Requirement already satisfied: requests>=2.0.0 in /usr/local/lib/python3.7/dist-packages (from requests-oauthlib>=0.7.0->google-auth-oauthlib>=0.4.1->gspread) (2.23.0)\n",
            "Requirement already satisfied: oauthlib>=3.0.0 in /usr/local/lib/python3.7/dist-packages (from requests-oauthlib>=0.7.0->google-auth-oauthlib>=0.4.1->gspread) (3.1.1)\n",
            "Requirement already satisfied: certifi>=2017.4.17 in /usr/local/lib/python3.7/dist-packages (from requests>=2.0.0->requests-oauthlib>=0.7.0->google-auth-oauthlib>=0.4.1->gspread) (2021.5.30)\n",
            "Requirement already satisfied: idna<3,>=2.5 in /usr/local/lib/python3.7/dist-packages (from requests>=2.0.0->requests-oauthlib>=0.7.0->google-auth-oauthlib>=0.4.1->gspread) (2.10)\n",
            "Requirement already satisfied: urllib3!=1.25.0,!=1.25.1,<1.26,>=1.21.1 in /usr/local/lib/python3.7/dist-packages (from requests>=2.0.0->requests-oauthlib>=0.7.0->google-auth-oauthlib>=0.4.1->gspread) (1.24.3)\n",
            "Requirement already satisfied: chardet<4,>=3.0.2 in /usr/local/lib/python3.7/dist-packages (from requests>=2.0.0->requests-oauthlib>=0.7.0->google-auth-oauthlib>=0.4.1->gspread) (3.0.4)\n",
            "4.0.1\n"
          ]
        }
      ]
    },
    {
      "cell_type": "markdown",
      "metadata": {
        "id": "vCmq0sRGvkos"
      },
      "source": [
        "## Authenticate of Google Spreadsheet"
      ]
    },
    {
      "cell_type": "code",
      "metadata": {
        "id": "ZLkmGCHWLeu8"
      },
      "source": [
        "from google.colab import auth\n",
        "from oauth2client.client import GoogleCredentials\n",
        "\n",
        "auth.authenticate_user()\n",
        "gc = gspread.authorize(GoogleCredentials.get_application_default())"
      ],
      "execution_count": null,
      "outputs": []
    },
    {
      "cell_type": "markdown",
      "metadata": {
        "id": "hDe_qsDTv1kT"
      },
      "source": [
        "## Usage of gspread"
      ]
    },
    {
      "cell_type": "code",
      "metadata": {
        "id": "TWPkZHRtwVEc"
      },
      "source": [
        "import pandas as pd"
      ],
      "execution_count": null,
      "outputs": []
    },
    {
      "cell_type": "markdown",
      "metadata": {
        "id": "566K0EZrEJzS"
      },
      "source": [
        "Read spreadsheet by name, url, key."
      ]
    },
    {
      "cell_type": "code",
      "metadata": {
        "id": "xK8m-8plL4fx"
      },
      "source": [
        "workbook = gc.open_by_key(\"14WGIODpkL485LM2-RQfJI53VONxrslAJuLxlQhy9yQg\")"
      ],
      "execution_count": null,
      "outputs": []
    },
    {
      "cell_type": "code",
      "metadata": {
        "id": "alwMTPdTEjAn",
        "colab": {
          "base_uri": "https://localhost:8080/"
        },
        "outputId": "21be5421-6653-4d4e-d9f1-deffd510712d"
      },
      "source": [
        "# workbook = gc.open('test')\n",
        "# workbook = gc.open_by_url('https://docs.google.com/spreadsheets/d/14WGIODpkL485LM2-RQfJI53VONxrslAJuLxlQhy9yQg/')\n",
        "workbook"
      ],
      "execution_count": null,
      "outputs": [
        {
          "output_type": "execute_result",
          "data": {
            "text/plain": [
              "<Spreadsheet 'test' id:14WGIODpkL485LM2-RQfJI53VONxrslAJuLxlQhy9yQg>"
            ]
          },
          "metadata": {},
          "execution_count": 5
        }
      ]
    },
    {
      "cell_type": "markdown",
      "metadata": {
        "id": "gZ7-6px-FsR9"
      },
      "source": [
        "get *all worksheets*  \n"
      ]
    },
    {
      "cell_type": "code",
      "metadata": {
        "colab": {
          "base_uri": "https://localhost:8080/",
          "height": 430
        },
        "id": "VBorJ3dOGoy2",
        "outputId": "c29021cd-c6b0-4513-8423-a82163773155"
      },
      "source": [
        "sheets = workbook.worksheets()\n",
        "sheets"
      ],
      "execution_count": null,
      "outputs": [
        {
          "output_type": "error",
          "ename": "APIError",
          "evalue": "ignored",
          "traceback": [
            "\u001b[0;31m---------------------------------------------------------------------------\u001b[0m",
            "\u001b[0;31mAPIError\u001b[0m                                  Traceback (most recent call last)",
            "\u001b[0;32m<ipython-input-17-658fee65f27b>\u001b[0m in \u001b[0;36m<module>\u001b[0;34m()\u001b[0m\n\u001b[0;32m----> 1\u001b[0;31m \u001b[0msheets\u001b[0m \u001b[0;34m=\u001b[0m \u001b[0mworkbook\u001b[0m\u001b[0;34m.\u001b[0m\u001b[0mworksheets\u001b[0m\u001b[0;34m(\u001b[0m\u001b[0;34m)\u001b[0m\u001b[0;34m\u001b[0m\u001b[0;34m\u001b[0m\u001b[0m\n\u001b[0m\u001b[1;32m      2\u001b[0m \u001b[0msheets\u001b[0m\u001b[0;34m\u001b[0m\u001b[0;34m\u001b[0m\u001b[0m\n",
            "\u001b[0;32m/usr/local/lib/python3.7/dist-packages/gspread/models.py\u001b[0m in \u001b[0;36mworksheets\u001b[0;34m(self)\u001b[0m\n\u001b[1;32m    152\u001b[0m             \u001b[0;32myield\u001b[0m \u001b[0;34m(\u001b[0m\u001b[0msheet\u001b[0m\u001b[0;34m)\u001b[0m\u001b[0;34m\u001b[0m\u001b[0;34m\u001b[0m\u001b[0m\n\u001b[1;32m    153\u001b[0m \u001b[0;34m\u001b[0m\u001b[0m\n\u001b[0;32m--> 154\u001b[0;31m     \u001b[0;32mdef\u001b[0m \u001b[0m__repr__\u001b[0m\u001b[0;34m(\u001b[0m\u001b[0mself\u001b[0m\u001b[0;34m)\u001b[0m\u001b[0;34m:\u001b[0m\u001b[0;34m\u001b[0m\u001b[0;34m\u001b[0m\u001b[0m\n\u001b[0m\u001b[1;32m    155\u001b[0m         return '<%s %s id:%s>' % (\n\u001b[1;32m    156\u001b[0m             \u001b[0mself\u001b[0m\u001b[0;34m.\u001b[0m\u001b[0m__class__\u001b[0m\u001b[0;34m.\u001b[0m\u001b[0m__name__\u001b[0m\u001b[0;34m,\u001b[0m\u001b[0;34m\u001b[0m\u001b[0;34m\u001b[0m\u001b[0m\n",
            "\u001b[0;32m/usr/local/lib/python3.7/dist-packages/gspread/models.py\u001b[0m in \u001b[0;36mfetch_sheet_metadata\u001b[0;34m(self)\u001b[0m\n\u001b[1;32m    121\u001b[0m             \u001b[0;32mreturn\u001b[0m \u001b[0mself\u001b[0m\u001b[0;34m.\u001b[0m\u001b[0m_properties\u001b[0m\u001b[0;34m[\u001b[0m\u001b[0;34m'modifiedTime'\u001b[0m\u001b[0;34m]\u001b[0m\u001b[0;34m\u001b[0m\u001b[0;34m\u001b[0m\u001b[0m\n\u001b[1;32m    122\u001b[0m         \u001b[0;32mexcept\u001b[0m \u001b[0mKeyError\u001b[0m\u001b[0;34m:\u001b[0m\u001b[0;34m\u001b[0m\u001b[0;34m\u001b[0m\u001b[0m\n\u001b[0;32m--> 123\u001b[0;31m             \u001b[0;31m# Filter the list using the name to reduce the request size\u001b[0m\u001b[0;34m\u001b[0m\u001b[0;34m\u001b[0m\u001b[0;34m\u001b[0m\u001b[0m\n\u001b[0m\u001b[1;32m    124\u001b[0m             \u001b[0;31m# Filter the item using the unique ID to ensure we update the exacte same item\u001b[0m\u001b[0;34m\u001b[0m\u001b[0;34m\u001b[0m\u001b[0;34m\u001b[0m\u001b[0m\n\u001b[1;32m    125\u001b[0m             metadata = utils.finditem(lambda x: x[\"id\"] == self.id,\n",
            "\u001b[0;32m/usr/local/lib/python3.7/dist-packages/gspread/client.py\u001b[0m in \u001b[0;36mrequest\u001b[0;34m(self, method, endpoint, params, data, json, files, headers)\u001b[0m\n\u001b[1;32m     77\u001b[0m \u001b[0;34m\u001b[0m\u001b[0m\n\u001b[1;32m     78\u001b[0m     \u001b[0;32mdef\u001b[0m \u001b[0mlist_spreadsheet_files\u001b[0m\u001b[0;34m(\u001b[0m\u001b[0mself\u001b[0m\u001b[0;34m,\u001b[0m \u001b[0mtitle\u001b[0m\u001b[0;34m=\u001b[0m\u001b[0;32mNone\u001b[0m\u001b[0;34m)\u001b[0m\u001b[0;34m:\u001b[0m\u001b[0;34m\u001b[0m\u001b[0;34m\u001b[0m\u001b[0m\n\u001b[0;32m---> 79\u001b[0;31m         \u001b[0mfiles\u001b[0m \u001b[0;34m=\u001b[0m \u001b[0;34m[\u001b[0m\u001b[0;34m]\u001b[0m\u001b[0;34m\u001b[0m\u001b[0;34m\u001b[0m\u001b[0m\n\u001b[0m\u001b[1;32m     80\u001b[0m         \u001b[0mpage_token\u001b[0m \u001b[0;34m=\u001b[0m \u001b[0;34m''\u001b[0m\u001b[0;34m\u001b[0m\u001b[0;34m\u001b[0m\u001b[0m\n\u001b[1;32m     81\u001b[0m         \u001b[0murl\u001b[0m \u001b[0;34m=\u001b[0m \u001b[0mDRIVE_FILES_API_V3_URL\u001b[0m\u001b[0;34m\u001b[0m\u001b[0;34m\u001b[0m\u001b[0m\n",
            "\u001b[0;31mAPIError\u001b[0m: {\n  \"error\": {\n    \"code\": 403,\n    \"message\": \"The request is missing a valid API key.\",\n    \"status\": \"PERMISSION_DENIED\"\n  }\n}\n"
          ]
        }
      ]
    },
    {
      "cell_type": "markdown",
      "metadata": {
        "id": "rsN4MlngGsnI"
      },
      "source": [
        "get *worksheet* by name, index, id."
      ]
    },
    {
      "cell_type": "code",
      "metadata": {
        "id": "Ivxa7W3dL5W7",
        "colab": {
          "base_uri": "https://localhost:8080/"
        },
        "outputId": "ebca4a66-85d3-428e-b480-ac27b4e1b243"
      },
      "source": [
        "sheet = workbook.worksheet('data1')\n",
        "# sheet = workbook.get_worksheet(0)\n",
        "# sheet = workbook.get_worksheet_by_id(674349371)\n",
        "sheet"
      ],
      "execution_count": null,
      "outputs": [
        {
          "output_type": "execute_result",
          "data": {
            "text/plain": [
              "<Worksheet 'data1' id:0>"
            ]
          },
          "metadata": {},
          "execution_count": 7
        }
      ]
    },
    {
      "cell_type": "markdown",
      "metadata": {
        "id": "uwRS_aHEHy__"
      },
      "source": [
        "### get cell's value.\n",
        "- get all value as dict objects by using `get_all_records`.\n",
        "- get all value as list objects by using `get_all_values`.\n",
        "- get value of specific range by using `get_values`.\n",
        "- use pandas to show the values."
      ]
    },
    {
      "cell_type": "code",
      "metadata": {
        "colab": {
          "base_uri": "https://localhost:8080/"
        },
        "id": "Gqt7Rn4HZ6dc",
        "outputId": "068a5750-b29c-4a19-82c0-3c776ba56041"
      },
      "source": [
        "sheet.get_all_records()"
      ],
      "execution_count": null,
      "outputs": [
        {
          "output_type": "execute_result",
          "data": {
            "text/plain": [
              "[{'age': 14, 'id': 1, 'name': 'John', 'no': 2101},\n",
              " {'age': 14, 'id': 2, 'name': 'Tom', 'no': 2102},\n",
              " {'age': 15, 'id': 3, 'name': 'Andy', 'no': 2103},\n",
              " {'age': 15, 'id': 4, 'name': 'Mary', 'no': 2104},\n",
              " {'age': 14, 'id': 5, 'name': 'Lisa', 'no': 2105}]"
            ]
          },
          "metadata": {},
          "execution_count": 7
        }
      ]
    },
    {
      "cell_type": "code",
      "metadata": {
        "colab": {
          "base_uri": "https://localhost:8080/"
        },
        "id": "bup5XfDqae1_",
        "outputId": "c021d9c7-c7ec-42c5-8d17-448a139d2658"
      },
      "source": [
        "sheet.get_all_values()"
      ],
      "execution_count": null,
      "outputs": [
        {
          "output_type": "execute_result",
          "data": {
            "text/plain": [
              "[['id', 'no', 'name', 'age'],\n",
              " ['1', '2101', 'John', '14'],\n",
              " ['2', '2102', 'Tom', '14'],\n",
              " ['3', '2103', 'Andy', '15'],\n",
              " ['4', '2104', 'Mary', '15'],\n",
              " ['5', '2105', 'Lisa', '14']]"
            ]
          },
          "metadata": {},
          "execution_count": 8
        }
      ]
    },
    {
      "cell_type": "code",
      "metadata": {
        "colab": {
          "base_uri": "https://localhost:8080/"
        },
        "id": "q_MegdG2JbQr",
        "outputId": "f88e9b5f-a553-49a6-e8f2-149d079e2cac"
      },
      "source": [
        "sheet.get_values('A:C')"
      ],
      "execution_count": null,
      "outputs": [
        {
          "output_type": "execute_result",
          "data": {
            "text/plain": [
              "[['id', 'no', 'name'],\n",
              " ['1', '2107', 'John'],\n",
              " ['2', '2102', 'Tom'],\n",
              " ['3', '2103', 'Andy'],\n",
              " ['4', '2104', 'Mary'],\n",
              " ['5', '2105', 'Lisa']]"
            ]
          },
          "metadata": {},
          "execution_count": 13
        }
      ]
    },
    {
      "cell_type": "code",
      "metadata": {
        "id": "_og5DYJOajVC",
        "colab": {
          "base_uri": "https://localhost:8080/",
          "height": 235
        },
        "outputId": "6660f4c6-bc40-4d1c-efee-9c0d7ccbf28f"
      },
      "source": [
        "values = sheet.get_all_values()\n",
        "df = pd.DataFrame(values[1:], columns=values[0])\n",
        "df"
      ],
      "execution_count": null,
      "outputs": [
        {
          "output_type": "execute_result",
          "data": {
            "text/html": [
              "<div>\n",
              "<style scoped>\n",
              "    .dataframe tbody tr th:only-of-type {\n",
              "        vertical-align: middle;\n",
              "    }\n",
              "\n",
              "    .dataframe tbody tr th {\n",
              "        vertical-align: top;\n",
              "    }\n",
              "\n",
              "    .dataframe thead th {\n",
              "        text-align: right;\n",
              "    }\n",
              "</style>\n",
              "<table border=\"1\" class=\"dataframe\">\n",
              "  <thead>\n",
              "    <tr style=\"text-align: right;\">\n",
              "      <th></th>\n",
              "      <th>id</th>\n",
              "      <th>no</th>\n",
              "      <th>name</th>\n",
              "      <th>age</th>\n",
              "    </tr>\n",
              "  </thead>\n",
              "  <tbody>\n",
              "    <tr>\n",
              "      <th>0</th>\n",
              "      <td>1</td>\n",
              "      <td>2107</td>\n",
              "      <td>John</td>\n",
              "      <td>16</td>\n",
              "    </tr>\n",
              "    <tr>\n",
              "      <th>1</th>\n",
              "      <td>2</td>\n",
              "      <td>2102</td>\n",
              "      <td>Tom</td>\n",
              "      <td>16</td>\n",
              "    </tr>\n",
              "    <tr>\n",
              "      <th>2</th>\n",
              "      <td>3</td>\n",
              "      <td>2103</td>\n",
              "      <td>Andy</td>\n",
              "      <td>16</td>\n",
              "    </tr>\n",
              "    <tr>\n",
              "      <th>3</th>\n",
              "      <td>4</td>\n",
              "      <td>2104</td>\n",
              "      <td>Mary</td>\n",
              "      <td>16</td>\n",
              "    </tr>\n",
              "    <tr>\n",
              "      <th>4</th>\n",
              "      <td>5</td>\n",
              "      <td>2105</td>\n",
              "      <td>Lisa</td>\n",
              "      <td>16</td>\n",
              "    </tr>\n",
              "    <tr>\n",
              "      <th>5</th>\n",
              "      <td></td>\n",
              "      <td></td>\n",
              "      <td></td>\n",
              "      <td>80</td>\n",
              "    </tr>\n",
              "  </tbody>\n",
              "</table>\n",
              "</div>"
            ],
            "text/plain": [
              "  id    no  name age\n",
              "0  1  2107  John  16\n",
              "1  2  2102   Tom  16\n",
              "2  3  2103  Andy  16\n",
              "3  4  2104  Mary  16\n",
              "4  5  2105  Lisa  16\n",
              "5                 80"
            ]
          },
          "metadata": {},
          "execution_count": 11
        }
      ]
    },
    {
      "cell_type": "code",
      "metadata": {
        "colab": {
          "base_uri": "https://localhost:8080/",
          "height": 235
        },
        "id": "KhdoB85WymG3",
        "outputId": "29432d51-a5bc-419b-e875-4d5440a30c6a"
      },
      "source": [
        "records = sheet.get_all_records()\n",
        "df = pd.DataFrame(records)\n",
        "df"
      ],
      "execution_count": null,
      "outputs": [
        {
          "output_type": "execute_result",
          "data": {
            "text/html": [
              "<div>\n",
              "<style scoped>\n",
              "    .dataframe tbody tr th:only-of-type {\n",
              "        vertical-align: middle;\n",
              "    }\n",
              "\n",
              "    .dataframe tbody tr th {\n",
              "        vertical-align: top;\n",
              "    }\n",
              "\n",
              "    .dataframe thead th {\n",
              "        text-align: right;\n",
              "    }\n",
              "</style>\n",
              "<table border=\"1\" class=\"dataframe\">\n",
              "  <thead>\n",
              "    <tr style=\"text-align: right;\">\n",
              "      <th></th>\n",
              "      <th>id</th>\n",
              "      <th>no</th>\n",
              "      <th>name</th>\n",
              "      <th>age</th>\n",
              "    </tr>\n",
              "  </thead>\n",
              "  <tbody>\n",
              "    <tr>\n",
              "      <th>0</th>\n",
              "      <td>1</td>\n",
              "      <td>2107</td>\n",
              "      <td>John</td>\n",
              "      <td>16</td>\n",
              "    </tr>\n",
              "    <tr>\n",
              "      <th>1</th>\n",
              "      <td>2</td>\n",
              "      <td>2102</td>\n",
              "      <td>Tom</td>\n",
              "      <td>16</td>\n",
              "    </tr>\n",
              "    <tr>\n",
              "      <th>2</th>\n",
              "      <td>3</td>\n",
              "      <td>2103</td>\n",
              "      <td>Andy</td>\n",
              "      <td>16</td>\n",
              "    </tr>\n",
              "    <tr>\n",
              "      <th>3</th>\n",
              "      <td>4</td>\n",
              "      <td>2104</td>\n",
              "      <td>Mary</td>\n",
              "      <td>16</td>\n",
              "    </tr>\n",
              "    <tr>\n",
              "      <th>4</th>\n",
              "      <td>5</td>\n",
              "      <td>2105</td>\n",
              "      <td>Lisa</td>\n",
              "      <td>16</td>\n",
              "    </tr>\n",
              "    <tr>\n",
              "      <th>5</th>\n",
              "      <td></td>\n",
              "      <td></td>\n",
              "      <td></td>\n",
              "      <td>80</td>\n",
              "    </tr>\n",
              "  </tbody>\n",
              "</table>\n",
              "</div>"
            ],
            "text/plain": [
              "  id    no  name  age\n",
              "0  1  2107  John   16\n",
              "1  2  2102   Tom   16\n",
              "2  3  2103  Andy   16\n",
              "3  4  2104  Mary   16\n",
              "4  5  2105  Lisa   16\n",
              "5                  80"
            ]
          },
          "metadata": {},
          "execution_count": 10
        }
      ]
    },
    {
      "cell_type": "markdown",
      "metadata": {
        "id": "7U3EuPp0JxYG"
      },
      "source": [
        "### Update cell's value\n",
        "- update range's value by using `update` or `update_cells`.    \n",
        "- update one cell's value by using `update_cell`.  "
      ]
    },
    {
      "cell_type": "code",
      "metadata": {
        "colab": {
          "base_uri": "https://localhost:8080/"
        },
        "id": "jru9wmhdbI2A",
        "outputId": "2030fea3-1bca-4f5b-f650-7a3ce88d5d30"
      },
      "source": [
        "sheet.update('D2:D6', [[16], [16], [16], [16], [16]])\n",
        "sheet.update('D7',  '=SUM(D2:D6)', raw=False)\n",
        "sheet.get_all_values()"
      ],
      "execution_count": null,
      "outputs": [
        {
          "output_type": "execute_result",
          "data": {
            "text/plain": [
              "[['id', 'no', 'name', 'age'],\n",
              " ['1', '2107', 'John', '16'],\n",
              " ['2', '2102', 'Tom', '16'],\n",
              " ['3', '2103', 'Andy', '16'],\n",
              " ['4', '2104', 'Mary', '16'],\n",
              " ['5', '2105', 'Lisa', '16'],\n",
              " ['', '', '', '80']]"
            ]
          },
          "metadata": {},
          "execution_count": 26
        }
      ]
    },
    {
      "cell_type": "code",
      "metadata": {
        "colab": {
          "base_uri": "https://localhost:8080/"
        },
        "id": "GuDeDWHZys58",
        "outputId": "945c0db5-d1cb-4b05-91a2-b71f7d0cf3f3"
      },
      "source": [
        "sheet.update_cell(2, 2, 2107)\n",
        "sheet.get_all_values()"
      ],
      "execution_count": null,
      "outputs": [
        {
          "output_type": "execute_result",
          "data": {
            "text/plain": [
              "{'spreadsheetId': '14WGIODpkL485LM2-RQfJI53VONxrslAJuLxlQhy9yQg',\n",
              " 'updatedCells': 1,\n",
              " 'updatedColumns': 1,\n",
              " 'updatedRange': 'data1!B2',\n",
              " 'updatedRows': 1}"
            ]
          },
          "metadata": {},
          "execution_count": 18
        }
      ]
    },
    {
      "cell_type": "code",
      "metadata": {
        "colab": {
          "base_uri": "https://localhost:8080/"
        },
        "id": "szO1J3of2sNq",
        "outputId": "96e68b27-4d4d-4172-a242-bdd729dcbbe6"
      },
      "source": [
        "age_list = sheet.range('D2:D6')\n",
        "age_list"
      ],
      "execution_count": null,
      "outputs": [
        {
          "output_type": "execute_result",
          "data": {
            "text/plain": [
              "[<Cell R2C4 '14'>,\n",
              " <Cell R3C4 '14'>,\n",
              " <Cell R4C4 '15'>,\n",
              " <Cell R5C4 '15'>,\n",
              " <Cell R6C4 '14'>]"
            ]
          },
          "metadata": {},
          "execution_count": 24
        }
      ]
    },
    {
      "cell_type": "code",
      "metadata": {
        "colab": {
          "base_uri": "https://localhost:8080/"
        },
        "id": "5IT1HNg33HMh",
        "outputId": "23f10d63-bfc5-4f6b-95d0-3c102270ae48"
      },
      "source": [
        "for age in age_list:\n",
        "  age.value = 14\n",
        "\n",
        "sheet.update_cells(age_list)\n",
        "sheet.get_all_values()"
      ],
      "execution_count": null,
      "outputs": [
        {
          "output_type": "execute_result",
          "data": {
            "text/plain": [
              "[['id', 'no', 'name', 'age'],\n",
              " ['1', '2107', 'John', '14'],\n",
              " ['2', '2102', 'Tom', '14'],\n",
              " ['3', '2103', 'Andy', '14'],\n",
              " ['4', '2104', 'Mary', '14'],\n",
              " ['5', '2105', 'Lisa', '14']]"
            ]
          },
          "metadata": {},
          "execution_count": 26
        }
      ]
    },
    {
      "cell_type": "code",
      "metadata": {
        "id": "rOBGvVsi3l2a"
      },
      "source": [
        ""
      ],
      "execution_count": null,
      "outputs": []
    }
  ]
}